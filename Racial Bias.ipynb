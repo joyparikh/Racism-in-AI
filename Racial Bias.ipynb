{
 "cells": [
  {
   "cell_type": "markdown",
   "metadata": {},
   "source": [
    "### Importing\n",
    "<b>\n",
    "Importing the data and pre-processing it. Converting required columns to categorical(one-hot encoding) and Representing some entries in binary"
   ]
  },
  {
   "cell_type": "code",
   "execution_count": 28,
   "metadata": {
    "scrolled": true
   },
   "outputs": [
    {
     "name": "stdout",
     "output_type": "stream",
     "text": [
      "(5554, 25) (5554, 19) (5554, 6)\n",
      "(2857, 23) (1892, 23)\n"
     ]
    },
    {
     "data": {
      "text/html": [
       "<div>\n",
       "<style>\n",
       "    .dataframe thead tr:only-child th {\n",
       "        text-align: right;\n",
       "    }\n",
       "\n",
       "    .dataframe thead th {\n",
       "        text-align: left;\n",
       "    }\n",
       "\n",
       "    .dataframe tbody tr th {\n",
       "        vertical-align: top;\n",
       "    }\n",
       "</style>\n",
       "<table border=\"1\" class=\"dataframe\">\n",
       "  <thead>\n",
       "    <tr style=\"text-align: right;\">\n",
       "      <th></th>\n",
       "      <th>age</th>\n",
       "      <th>c_charge_degree</th>\n",
       "      <th>sex</th>\n",
       "      <th>priors_count</th>\n",
       "      <th>juv_fel_count</th>\n",
       "      <th>juv_misd_count</th>\n",
       "      <th>juv_other_count</th>\n",
       "      <th>decile_score</th>\n",
       "      <th>length_of_stay</th>\n",
       "      <th>priors_1</th>\n",
       "      <th>...</th>\n",
       "      <th>charge_any_drug</th>\n",
       "      <th>charge_any_violence_aggression</th>\n",
       "      <th>charge_any_theft</th>\n",
       "      <th>length_of_stay_thresh</th>\n",
       "      <th>African-American</th>\n",
       "      <th>Asian</th>\n",
       "      <th>Caucasian</th>\n",
       "      <th>Hispanic</th>\n",
       "      <th>Native American</th>\n",
       "      <th>Other</th>\n",
       "    </tr>\n",
       "  </thead>\n",
       "  <tbody>\n",
       "    <tr>\n",
       "      <th>0</th>\n",
       "      <td>50</td>\n",
       "      <td>1</td>\n",
       "      <td>0</td>\n",
       "      <td>30</td>\n",
       "      <td>0</td>\n",
       "      <td>0</td>\n",
       "      <td>0</td>\n",
       "      <td>6</td>\n",
       "      <td>4</td>\n",
       "      <td>0</td>\n",
       "      <td>...</td>\n",
       "      <td>0</td>\n",
       "      <td>0</td>\n",
       "      <td>0</td>\n",
       "      <td>4</td>\n",
       "      <td>0</td>\n",
       "      <td>0</td>\n",
       "      <td>1</td>\n",
       "      <td>0</td>\n",
       "      <td>0</td>\n",
       "      <td>0</td>\n",
       "    </tr>\n",
       "    <tr>\n",
       "      <th>1</th>\n",
       "      <td>28</td>\n",
       "      <td>1</td>\n",
       "      <td>1</td>\n",
       "      <td>0</td>\n",
       "      <td>0</td>\n",
       "      <td>0</td>\n",
       "      <td>0</td>\n",
       "      <td>7</td>\n",
       "      <td>0</td>\n",
       "      <td>0</td>\n",
       "      <td>...</td>\n",
       "      <td>0</td>\n",
       "      <td>0</td>\n",
       "      <td>0</td>\n",
       "      <td>0</td>\n",
       "      <td>1</td>\n",
       "      <td>0</td>\n",
       "      <td>0</td>\n",
       "      <td>0</td>\n",
       "      <td>0</td>\n",
       "      <td>0</td>\n",
       "    </tr>\n",
       "    <tr>\n",
       "      <th>2</th>\n",
       "      <td>24</td>\n",
       "      <td>0</td>\n",
       "      <td>1</td>\n",
       "      <td>1</td>\n",
       "      <td>0</td>\n",
       "      <td>0</td>\n",
       "      <td>0</td>\n",
       "      <td>4</td>\n",
       "      <td>5</td>\n",
       "      <td>1</td>\n",
       "      <td>...</td>\n",
       "      <td>0</td>\n",
       "      <td>1</td>\n",
       "      <td>0</td>\n",
       "      <td>5</td>\n",
       "      <td>0</td>\n",
       "      <td>0</td>\n",
       "      <td>0</td>\n",
       "      <td>0</td>\n",
       "      <td>0</td>\n",
       "      <td>1</td>\n",
       "    </tr>\n",
       "    <tr>\n",
       "      <th>3</th>\n",
       "      <td>25</td>\n",
       "      <td>0</td>\n",
       "      <td>0</td>\n",
       "      <td>14</td>\n",
       "      <td>0</td>\n",
       "      <td>1</td>\n",
       "      <td>2</td>\n",
       "      <td>6</td>\n",
       "      <td>1</td>\n",
       "      <td>0</td>\n",
       "      <td>...</td>\n",
       "      <td>0</td>\n",
       "      <td>0</td>\n",
       "      <td>1</td>\n",
       "      <td>1</td>\n",
       "      <td>0</td>\n",
       "      <td>0</td>\n",
       "      <td>0</td>\n",
       "      <td>1</td>\n",
       "      <td>0</td>\n",
       "      <td>0</td>\n",
       "    </tr>\n",
       "    <tr>\n",
       "      <th>4</th>\n",
       "      <td>34</td>\n",
       "      <td>0</td>\n",
       "      <td>1</td>\n",
       "      <td>7</td>\n",
       "      <td>0</td>\n",
       "      <td>0</td>\n",
       "      <td>0</td>\n",
       "      <td>6</td>\n",
       "      <td>0</td>\n",
       "      <td>0</td>\n",
       "      <td>...</td>\n",
       "      <td>1</td>\n",
       "      <td>0</td>\n",
       "      <td>0</td>\n",
       "      <td>0</td>\n",
       "      <td>1</td>\n",
       "      <td>0</td>\n",
       "      <td>0</td>\n",
       "      <td>0</td>\n",
       "      <td>0</td>\n",
       "      <td>0</td>\n",
       "    </tr>\n",
       "  </tbody>\n",
       "</table>\n",
       "<p>5 rows × 25 columns</p>\n",
       "</div>"
      ],
      "text/plain": [
       "   age  c_charge_degree  sex  priors_count  juv_fel_count  juv_misd_count  \\\n",
       "0   50                1    0            30              0               0   \n",
       "1   28                1    1             0              0               0   \n",
       "2   24                0    1             1              0               0   \n",
       "3   25                0    0            14              0               1   \n",
       "4   34                0    1             7              0               0   \n",
       "\n",
       "   juv_other_count  decile_score  length_of_stay  priors_1  ...    \\\n",
       "0                0             6               4         0  ...     \n",
       "1                0             7               0         0  ...     \n",
       "2                0             4               5         1  ...     \n",
       "3                2             6               1         0  ...     \n",
       "4                0             6               0         0  ...     \n",
       "\n",
       "   charge_any_drug  charge_any_violence_aggression  charge_any_theft  \\\n",
       "0                0                               0                 0   \n",
       "1                0                               0                 0   \n",
       "2                0                               1                 0   \n",
       "3                0                               0                 1   \n",
       "4                1                               0                 0   \n",
       "\n",
       "   length_of_stay_thresh  African-American  Asian  Caucasian  Hispanic  \\\n",
       "0                      4                 0      0          1         0   \n",
       "1                      0                 1      0          0         0   \n",
       "2                      5                 0      0          0         0   \n",
       "3                      1                 0      0          0         1   \n",
       "4                      0                 1      0          0         0   \n",
       "\n",
       "   Native American  Other  \n",
       "0                0      0  \n",
       "1                0      0  \n",
       "2                0      1  \n",
       "3                0      0  \n",
       "4                0      0  \n",
       "\n",
       "[5 rows x 25 columns]"
      ]
     },
     "execution_count": 28,
     "metadata": {},
     "output_type": "execute_result"
    }
   ],
   "source": [
    "# Get the data\n",
    "df = pd.read_csv('data/compas.csv')\n",
    "X_temp = df.drop(['race','score_text','c_charge_desc','two_year_recid'],axis=1)\n",
    "X_temp['c_charge_degree'] = X_temp['c_charge_degree'].replace(['M','F'],[1,0])\n",
    "x_race = pd.get_dummies(df['race'])\n",
    "X = pd.concat([X_temp,x_race],axis=1)\n",
    "y = df['two_year_recid']\n",
    "#Splitting the races\n",
    "aa_df = df[df['race'] == 'African-American']\n",
    "cc_df = df[df['race'] == 'Caucasian']\n",
    "print(X.shape,X_temp.shape,x_race.shape)\n",
    "print(aa_df.shape,cc_df.shape)\n",
    "X.head()"
   ]
  },
  {
   "cell_type": "markdown",
   "metadata": {},
   "source": [
    "### Split\n",
    "<b>Splitting the data into train and test sets, but doing so in a stratified manner so as to maintain the racial distribution in each set."
   ]
  },
  {
   "cell_type": "code",
   "execution_count": 29,
   "metadata": {
    "collapsed": true
   },
   "outputs": [],
   "source": [
    "X_train,X_test,y_train,y_test = train_test_split(X,y,test_size=0.2,stratify=X[['African-American','Caucasian']],random_state=1)\n",
    "mmscl = MinMaxScaler()\n",
    "X_train_norm = mmscl.fit_transform(X_train)\n",
    "X_test_norm = mmscl.transform(X_test)\n",
    "X_train = pd.DataFrame(X_train, index=X_train.index, columns=X_train.columns)\n",
    "X_test = pd.DataFrame(X_test, index=X_test.index, columns=X_test.columns)"
   ]
  },
  {
   "cell_type": "markdown",
   "metadata": {},
   "source": [
    "<b>Why is processing the categorical predictors important? What is the risk of processing categorical predictors after splitting into train and validation sets?"
   ]
  },
  {
   "cell_type": "markdown",
   "metadata": {},
   "source": [
    "**Ans) Categorical predictors need to be converted to a form in which they can be fed to the ML model. So 'Yes' and 'No' will not be understood by the model and hence need to be converted to '1' and '0'. Processing categorical predictors after splitting involves a risk as in one of the splits there is a chance of missing out on one of the predictors, which will hence not get converted to a digit in that split but be present in the other split, hence introducing an error in the model. In questions such as ours where we need to maintain race distribution in each split, we need to know about the distribution of races in the first place and hence need to process the predictor before splitting.**"
   ]
  },
  {
   "cell_type": "markdown",
   "metadata": {},
   "source": [
    "### Exploratory Data Analysis\n",
    "<b>\n",
    "Make overlapping distributions (histograms) of the following predictors for two groups, African American & Caucasian.\n",
    "- Age\n",
    "- Priors count\n",
    "- Sex\n",
    "- Length of stay\n"
   ]
  },
  {
   "cell_type": "code",
   "execution_count": 30,
   "metadata": {},
   "outputs": [
    {
     "data": {
      "image/png": "[encoded data removed]",
      "text/plain": [
       "<Figure size 432x288 with 1 Axes>"
      ]
     },
     "metadata": {},
     "output_type": "display_data"
    },
    {
     "data": {
      "image/png": "[encoded data removed]",
      "text/plain": [
       "<Figure size 432x288 with 1 Axes>"
      ]
     },
     "metadata": {},
     "output_type": "display_data"
    },
    {
     "data": {
      "image/png": "[encoded data removed]",
      "text/plain": [
       "<Figure size 432x288 with 1 Axes>"
      ]
     },
     "metadata": {},
     "output_type": "display_data"
    },
    {
     "data": {
      "image/png": "[encoded data removed]",
      "text/plain": [
       "<Figure size 432x288 with 1 Axes>"
      ]
     },
     "metadata": {},
     "output_type": "display_data"
    }
   ],
   "source": [
    "def myplot(label):\n",
    "    plt.figure()\n",
    "    plt.hist(X[label][X['African-American'] == 1],alpha=0.5,label='African American')\n",
    "    plt.hist(X[label][X['Caucasian'] == 1],alpha=0.5,label='Caucasian')\n",
    "    plt.xlabel('{}'.format(label))\n",
    "    plt.ylabel('No of felons')\n",
    "    plt.legend()\n",
    "labels = ['age','priors_count','sex','length_of_stay']\n",
    "for label in labels:\n",
    "    myplot(label)\n",
    "plt.show()"
   ]
  },
  {
   "cell_type": "markdown",
   "metadata": {},
   "source": [
    "<b> \n",
    "Among the following variables, which ones show disparity between the two groups? Explain your results in 2-3 sentences."
   ]
  },
  {
   "cell_type": "markdown",
   "metadata": {},
   "source": [
    "**Ans) Agewise African American show a disparity by having steep numbers in the 25-30 and 30-35 age ranges. There are more priors_count for African Americans but the difference in number of Caucasians and African americans with the same no. of prios count is almost same. One sex for African American race is very dominant over the same Caucasian sex. No. of African Americans with length of stay less than 100 is much more than Caucasians **"
   ]
  },
  {
   "cell_type": "markdown",
   "metadata": {},
   "source": [
    "### Prediction with 'Race'\n",
    "<b> \n",
    "Build a logistic regression model to predict recidivism (two_year_recid) on these data and race has been included in the list of predictors."
   ]
  },
  {
   "cell_type": "code",
   "execution_count": 31,
   "metadata": {},
   "outputs": [
    {
     "name": "stdout",
     "output_type": "stream",
     "text": [
      "Overall model accuracy is :  0.6867686768676867\n",
      "FPR for Arican American is  34.87544483985765 and for Caucasian is  10.619469026548673\n",
      "FNR for Arican American is  28.8659793814433 and for Caucasian is  59.21052631578947\n",
      "Ratio of FPR African American : FPR Caucasian is  3.2841043890865955\n",
      "Ratio of FNR African American : FNR Caucasian is  0.4875143184421535\n"
     ]
    },
    {
     "name": "stderr",
     "output_type": "stream",
     "text": [
      "C:\\Users\\Joy Parikh\\Anaconda3\\lib\\site-packages\\sklearn\\linear_model\\_logistic.py:764: ConvergenceWarning: lbfgs failed to converge (status=1):\n",
      "STOP: TOTAL NO. of ITERATIONS EXCEEDS LIMIT.\n",
      "\n",
      "Increase the number of iterations (max_iter) or scale the data as shown in:\n",
      "    https://scikit-learn.org/stable/modules/preprocessing.html\n",
      "Please also refer to the documentation for alternative solver options:\n",
      "    https://scikit-learn.org/stable/modules/linear_model.html#logistic-regression\n",
      "  extra_warning_msg=_LOGISTIC_SOLVER_CONVERGENCE_MSG)\n"
     ]
    }
   ],
   "source": [
    "model = LogisticRegression(C=100000)\n",
    "model.fit(X_train,y_train)\n",
    "y_pred = model.predict(X_test)\n",
    "acc = accuracy_score(y_test,y_pred)\n",
    "print('Overall model accuracy is : ',acc)\n",
    "y_test_AA_base = y_test[X_test['African-American']==1]\n",
    "y_test_CC_base = y_test[X_test['Caucasian']==1]\n",
    "y_pred_AA_base = y_pred[X_test['African-American']==1]\n",
    "y_pred_CC_base = y_pred[X_test['Caucasian']==1]\n",
    "TN_AA_base,FP_AA_base,FN_AA_base,TP_AA_base = metrics.confusion_matrix(y_test_AA_base,y_pred_AA_base).ravel()\n",
    "TN_CC_base,FP_CC_base,FN_CC_base,TP_CC_base = metrics.confusion_matrix(y_test_CC_base,y_pred_CC_base).ravel()\n",
    "print('FPR for Arican American is ',100 * FP_AA_base/(FP_AA_base+TN_AA_base),'and for Caucasian is ',100 * FP_CC_base/(FP_CC_base+TN_CC_base))\n",
    "print('FNR for Arican American is ',100 * FN_AA_base/(TP_AA_base+FN_AA_base),'and for Caucasian is ',100 * FN_CC_base/(TP_CC_base+FN_CC_base))\n",
    "print('Ratio of FPR African American : FPR Caucasian is ',(FP_AA_base/(FP_AA_base+TN_AA_base))/(FP_CC_base/(FP_CC_base+TN_CC_base)))\n",
    "print('Ratio of FNR African American : FNR Caucasian is ',(FN_AA_base/(TP_AA_base+FN_AA_base))/(FN_CC_base/(TP_CC_base+FN_CC_base)))"
   ]
  },
  {
   "cell_type": "markdown",
   "metadata": {},
   "source": [
    "<b>\n",
    "Any disparity in the $FPR$ and $FNR$ for the two groups?"
   ]
  },
  {
   "cell_type": "markdown",
   "metadata": {},
   "source": [
    "**Ans)African Anericans have a relatively high False Positive rate as compared to Caucasians, and Caucasians have a relatively high False Negative Rate wrt African Americans. This shows that there is a bias towawrds Caucasians as the model allows more Caucasians to be declared not risky falsely and more African Americans to be considered high-risk falsely.**"
   ]
  },
  {
   "cell_type": "markdown",
   "metadata": {},
   "source": [
    "## Solutions"
   ]
  },
  {
   "cell_type": "markdown",
   "metadata": {},
   "source": [
    "### Prediction without Race\n",
    "<b>\n",
    "Refit the logistic model earlier but this time without race as a predictor. "
   ]
  },
  {
   "cell_type": "code",
   "execution_count": 32,
   "metadata": {},
   "outputs": [
    {
     "data": {
      "text/html": [
       "<div>\n",
       "<style>\n",
       "    .dataframe thead tr:only-child th {\n",
       "        text-align: right;\n",
       "    }\n",
       "\n",
       "    .dataframe thead th {\n",
       "        text-align: left;\n",
       "    }\n",
       "\n",
       "    .dataframe tbody tr th {\n",
       "        vertical-align: top;\n",
       "    }\n",
       "</style>\n",
       "<table border=\"1\" class=\"dataframe\">\n",
       "  <thead>\n",
       "    <tr style=\"text-align: right;\">\n",
       "      <th></th>\n",
       "      <th>age</th>\n",
       "      <th>c_charge_degree</th>\n",
       "      <th>sex</th>\n",
       "      <th>priors_count</th>\n",
       "      <th>juv_fel_count</th>\n",
       "      <th>juv_misd_count</th>\n",
       "      <th>juv_other_count</th>\n",
       "      <th>decile_score</th>\n",
       "      <th>length_of_stay</th>\n",
       "      <th>priors_1</th>\n",
       "      <th>priors_234</th>\n",
       "      <th>priors_5plus</th>\n",
       "      <th>juv_fel_1plus</th>\n",
       "      <th>juv_misd_1plus</th>\n",
       "      <th>juv_other_1plus</th>\n",
       "      <th>charge_any_drug</th>\n",
       "      <th>charge_any_violence_aggression</th>\n",
       "      <th>charge_any_theft</th>\n",
       "      <th>length_of_stay_thresh</th>\n",
       "    </tr>\n",
       "  </thead>\n",
       "  <tbody>\n",
       "    <tr>\n",
       "      <th>5529</th>\n",
       "      <td>23</td>\n",
       "      <td>0</td>\n",
       "      <td>1</td>\n",
       "      <td>0</td>\n",
       "      <td>0</td>\n",
       "      <td>0</td>\n",
       "      <td>0</td>\n",
       "      <td>2</td>\n",
       "      <td>1</td>\n",
       "      <td>0</td>\n",
       "      <td>0</td>\n",
       "      <td>0</td>\n",
       "      <td>0</td>\n",
       "      <td>0</td>\n",
       "      <td>0</td>\n",
       "      <td>0</td>\n",
       "      <td>0</td>\n",
       "      <td>0</td>\n",
       "      <td>1</td>\n",
       "    </tr>\n",
       "    <tr>\n",
       "      <th>2765</th>\n",
       "      <td>76</td>\n",
       "      <td>0</td>\n",
       "      <td>1</td>\n",
       "      <td>0</td>\n",
       "      <td>0</td>\n",
       "      <td>0</td>\n",
       "      <td>0</td>\n",
       "      <td>1</td>\n",
       "      <td>2</td>\n",
       "      <td>0</td>\n",
       "      <td>0</td>\n",
       "      <td>0</td>\n",
       "      <td>0</td>\n",
       "      <td>0</td>\n",
       "      <td>0</td>\n",
       "      <td>0</td>\n",
       "      <td>1</td>\n",
       "      <td>0</td>\n",
       "      <td>2</td>\n",
       "    </tr>\n",
       "    <tr>\n",
       "      <th>5208</th>\n",
       "      <td>25</td>\n",
       "      <td>1</td>\n",
       "      <td>0</td>\n",
       "      <td>0</td>\n",
       "      <td>0</td>\n",
       "      <td>0</td>\n",
       "      <td>0</td>\n",
       "      <td>3</td>\n",
       "      <td>1</td>\n",
       "      <td>0</td>\n",
       "      <td>0</td>\n",
       "      <td>0</td>\n",
       "      <td>0</td>\n",
       "      <td>0</td>\n",
       "      <td>0</td>\n",
       "      <td>0</td>\n",
       "      <td>1</td>\n",
       "      <td>0</td>\n",
       "      <td>1</td>\n",
       "    </tr>\n",
       "    <tr>\n",
       "      <th>4086</th>\n",
       "      <td>56</td>\n",
       "      <td>1</td>\n",
       "      <td>1</td>\n",
       "      <td>0</td>\n",
       "      <td>0</td>\n",
       "      <td>0</td>\n",
       "      <td>0</td>\n",
       "      <td>1</td>\n",
       "      <td>0</td>\n",
       "      <td>0</td>\n",
       "      <td>0</td>\n",
       "      <td>0</td>\n",
       "      <td>0</td>\n",
       "      <td>0</td>\n",
       "      <td>0</td>\n",
       "      <td>0</td>\n",
       "      <td>0</td>\n",
       "      <td>0</td>\n",
       "      <td>0</td>\n",
       "    </tr>\n",
       "    <tr>\n",
       "      <th>57</th>\n",
       "      <td>26</td>\n",
       "      <td>0</td>\n",
       "      <td>1</td>\n",
       "      <td>0</td>\n",
       "      <td>0</td>\n",
       "      <td>0</td>\n",
       "      <td>0</td>\n",
       "      <td>3</td>\n",
       "      <td>2</td>\n",
       "      <td>0</td>\n",
       "      <td>0</td>\n",
       "      <td>0</td>\n",
       "      <td>0</td>\n",
       "      <td>0</td>\n",
       "      <td>0</td>\n",
       "      <td>0</td>\n",
       "      <td>0</td>\n",
       "      <td>0</td>\n",
       "      <td>2</td>\n",
       "    </tr>\n",
       "  </tbody>\n",
       "</table>\n",
       "</div>"
      ],
      "text/plain": [
       "      age  c_charge_degree  sex  priors_count  juv_fel_count  juv_misd_count  \\\n",
       "5529   23                0    1             0              0               0   \n",
       "2765   76                0    1             0              0               0   \n",
       "5208   25                1    0             0              0               0   \n",
       "4086   56                1    1             0              0               0   \n",
       "57     26                0    1             0              0               0   \n",
       "\n",
       "      juv_other_count  decile_score  length_of_stay  priors_1  priors_234  \\\n",
       "5529                0             2               1         0           0   \n",
       "2765                0             1               2         0           0   \n",
       "5208                0             3               1         0           0   \n",
       "4086                0             1               0         0           0   \n",
       "57                  0             3               2         0           0   \n",
       "\n",
       "      priors_5plus  juv_fel_1plus  juv_misd_1plus  juv_other_1plus  \\\n",
       "5529             0              0               0                0   \n",
       "2765             0              0               0                0   \n",
       "5208             0              0               0                0   \n",
       "4086             0              0               0                0   \n",
       "57               0              0               0                0   \n",
       "\n",
       "      charge_any_drug  charge_any_violence_aggression  charge_any_theft  \\\n",
       "5529                0                               0                 0   \n",
       "2765                0                               1                 0   \n",
       "5208                0                               1                 0   \n",
       "4086                0                               0                 0   \n",
       "57                  0                               0                 0   \n",
       "\n",
       "      length_of_stay_thresh  \n",
       "5529                      1  \n",
       "2765                      2  \n",
       "5208                      1  \n",
       "4086                      0  \n",
       "57                        2  "
      ]
     },
     "execution_count": 32,
     "metadata": {},
     "output_type": "execute_result"
    }
   ],
   "source": [
    "X_train_raceless = X_train.drop(['African-American','Asian','Caucasian','Hispanic','Native American','Other'],axis=1)\n",
    "X_test_raceless = X_test.drop(['African-American','Asian','Caucasian','Hispanic','Native American','Other'],axis=1)\n",
    "X_train_raceless.head()"
   ]
  },
  {
   "cell_type": "code",
   "execution_count": 33,
   "metadata": {},
   "outputs": [
    {
     "name": "stdout",
     "output_type": "stream",
     "text": [
      "Overall model accuracy is :  0.6921692169216922\n",
      "FPR for Arican American is  34.163701067615655 and for Caucasian is  10.619469026548673\n",
      "FNR for Arican American is  29.209621993127147 and for Caucasian is  57.89473684210526\n",
      "Ratio of FPR African American : FPR Caucasian is  3.217081850533808\n",
      "Ratio of FNR African American : FNR Caucasian is  0.5045298344267416\n"
     ]
    },
    {
     "name": "stderr",
     "output_type": "stream",
     "text": [
      "C:\\Users\\Joy Parikh\\Anaconda3\\lib\\site-packages\\sklearn\\linear_model\\_logistic.py:764: ConvergenceWarning: lbfgs failed to converge (status=1):\n",
      "STOP: TOTAL NO. of ITERATIONS EXCEEDS LIMIT.\n",
      "\n",
      "Increase the number of iterations (max_iter) or scale the data as shown in:\n",
      "    https://scikit-learn.org/stable/modules/preprocessing.html\n",
      "Please also refer to the documentation for alternative solver options:\n",
      "    https://scikit-learn.org/stable/modules/linear_model.html#logistic-regression\n",
      "  extra_warning_msg=_LOGISTIC_SOLVER_CONVERGENCE_MSG)\n"
     ]
    }
   ],
   "source": [
    "X_train_raceless = X_train.drop(['African-American','Asian','Caucasian','Hispanic','Native American','Other'],axis=1)\n",
    "X_test_raceless = X_test.drop(['African-American','Asian','Caucasian','Hispanic','Native American','Other'],axis=1)\n",
    "model = LogisticRegression(C=100000)\n",
    "model.fit(X_train_raceless,y_train)\n",
    "y_pred = model.predict(X_test_raceless)\n",
    "acc = accuracy_score(y_test,y_pred)\n",
    "print('Overall model accuracy is : ',acc)\n",
    "y_test_AA_race = y_test[X_test['African-American']==1]\n",
    "y_test_CC_race = y_test[X_test['Caucasian']==1]\n",
    "y_pred_AA_race = y_pred[X_test['African-American']==1]\n",
    "y_pred_CC_race = y_pred[X_test['Caucasian']==1]\n",
    "TN_AA_race,FP_AA_race,FN_AA_race,TP_AA_race = metrics.confusion_matrix(y_test_AA_race,y_pred_AA_race).ravel()\n",
    "TN_CC_race,FP_CC_race,FN_CC_race,TP_CC_race = metrics.confusion_matrix(y_test_CC_race,y_pred_CC_race).ravel()\n",
    "print('FPR for Arican American is ',100 * FP_AA_race/(FP_AA_race+TN_AA_race),'and for Caucasian is ',100 * FP_CC_race/(FP_CC_race+TN_CC_race))\n",
    "print('FNR for Arican American is ',100 * FN_AA_race/(TP_AA_race+FN_AA_race),'and for Caucasian is ',100 * FN_CC_race/(TP_CC_race+FN_CC_race))\n",
    "print('Ratio of FPR African American : FPR Caucasian is ',(FP_AA_race/(FP_AA_race+TN_AA_race))/(FP_CC_race/(FP_CC_race+TN_CC_race)))\n",
    "print('Ratio of FNR African American : FNR Caucasian is ',(FN_AA_race/(TP_AA_race+FN_AA_race))/(FN_CC_race/(TP_CC_race+FN_CC_race)))"
   ]
  },
  {
   "cell_type": "markdown",
   "metadata": {},
   "source": [
    "<b>\n",
    "Now, without the race as a predictor, what do you observe?"
   ]
  },
  {
   "cell_type": "markdown",
   "metadata": {},
   "source": [
    "**Ans) The Accuracy dropped a little when race was not included. The disparity between FPR for African American and Caucasian reduced by a little but the bias still exists. The disparity between FNR for African American and Caucasian reduced by a little but the bias still exists.**"
   ]
  },
  {
   "cell_type": "markdown",
   "metadata": {},
   "source": [
    "<b>Compared to the model when the race is included as a predictor?"
   ]
  },
  {
   "cell_type": "markdown",
   "metadata": {},
   "source": [
    "**Ans) When the race was included FPR(AA)=29.77 FPR(CC)=16.11 FNR(AA)=27.42 and FNR(CC)=47.79 . Without race as a predictor FPR(AA)=29.77 FPR(CC)=16.12 FNR(AA)=27.42 and FNR(CC)=50**"
   ]
  },
  {
   "cell_type": "markdown",
   "metadata": {},
   "source": [
    "<b>Final Connclusion\n"
   ]
  },
  {
   "cell_type": "markdown",
   "metadata": {},
   "source": [
    "**No a predictive tool should not be trusted even if it does not explicitly use a variable such as race. We can see from the results above that dropping race as a predictor did not affect the values by much and there is still a bias for Caucasian over African American race. The tool is being used to predict future crime and having a racial bias in such a tool is not the right thing to have. The bias is still occuring as many predictors other than the race predictor also have some sort of a racial bias in them which gets reflected on the model. For example the African American people had a larger priors_count than Caucasian and hence even though we are not using race as a predictor explicitly, other predictors with such racial bias which is impossible to remove will introduce a bias in the results of the model**"
   ]
  },
  {
   "cell_type": "markdown",
   "metadata": {},
   "source": [
    "## Solutions"
   ]
  },
  {
   "cell_type": "markdown",
   "metadata": {},
   "source": [
    "### ROC to look at big picture\n",
    "<b>\n",
    "Use logistic regression & plot the Receiver Operating Characteristic curve for two races, African Americans & Caucasians."
   ]
  },
  {
   "cell_type": "code",
   "execution_count": 34,
   "metadata": {},
   "outputs": [
    {
     "name": "stderr",
     "output_type": "stream",
     "text": [
      "C:\\Users\\Joy Parikh\\Anaconda3\\lib\\site-packages\\sklearn\\linear_model\\_logistic.py:764: ConvergenceWarning: lbfgs failed to converge (status=1):\n",
      "STOP: TOTAL NO. of ITERATIONS EXCEEDS LIMIT.\n",
      "\n",
      "Increase the number of iterations (max_iter) or scale the data as shown in:\n",
      "    https://scikit-learn.org/stable/modules/preprocessing.html\n",
      "Please also refer to the documentation for alternative solver options:\n",
      "    https://scikit-learn.org/stable/modules/linear_model.html#logistic-regression\n",
      "  extra_warning_msg=_LOGISTIC_SOLVER_CONVERGENCE_MSG)\n",
      "C:\\Users\\Joy Parikh\\Anaconda3\\lib\\site-packages\\sklearn\\linear_model\\_logistic.py:764: ConvergenceWarning: lbfgs failed to converge (status=1):\n",
      "STOP: TOTAL NO. of ITERATIONS EXCEEDS LIMIT.\n",
      "\n",
      "Increase the number of iterations (max_iter) or scale the data as shown in:\n",
      "    https://scikit-learn.org/stable/modules/preprocessing.html\n",
      "Please also refer to the documentation for alternative solver options:\n",
      "    https://scikit-learn.org/stable/modules/linear_model.html#logistic-regression\n",
      "  extra_warning_msg=_LOGISTIC_SOLVER_CONVERGENCE_MSG)\n"
     ]
    },
    {
     "data": {
      "image/png": "[encoded data removed]",
      "text/plain": [
       "<Figure size 432x288 with 1 Axes>"
      ]
     },
     "metadata": {},
     "output_type": "display_data"
    },
    {
     "data": {
      "image/png": "[encoded data removed]",
      "text/plain": [
       "<Figure size 432x288 with 1 Axes>"
      ]
     },
     "metadata": {},
     "output_type": "display_data"
    }
   ],
   "source": [
    "y_score_base = model.fit(X_train,y_train).decision_function(X_test)\n",
    "y_score_AA_base = y_score_base[X_test['African-American']==1]\n",
    "y_score_CC_base = y_score_base[X_test['Caucasian']==1]\n",
    "tpr_base_AA,fpr_base_AA,_ = metrics.roc_curve(y_test_AA_base,y_score_AA_base)\n",
    "tpr_base_CC,fpr_base_CC,_ = metrics.roc_curve(y_test_CC_base,y_score_CC_base)\n",
    "y_score_race = model.fit(X_train_raceless,y_train).decision_function(X_test_raceless)\n",
    "y_score_AA_race = y_score_race[X_test['African-American']==1]\n",
    "y_score_CC_race = y_score_race[X_test['Caucasian']==1]\n",
    "tpr_race_AA,fpr_race_AA,_ = metrics.roc_curve(y_test_AA_race,y_score_AA_race)\n",
    "tpr_race_CC,fpr_race_CC,_ = metrics.roc_curve(y_test_CC_race,y_score_CC_race)\n",
    "plt.figure()\n",
    "plt.plot(tpr_base_AA,fpr_base_AA,label='African American base')\n",
    "plt.plot(tpr_base_CC,fpr_base_CC,label='Caucasian base')\n",
    "plt.plot([0,1],[0,1],color='blue',linestyle='dashed')\n",
    "plt.xlabel('False Positive Rate')\n",
    "plt.ylabel('True Positive Rate')\n",
    "plt.title('ROC with race')\n",
    "plt.legend()\n",
    "plt.figure()\n",
    "plt.plot(tpr_race_AA,fpr_race_AA,label='African American raceless')\n",
    "plt.plot(tpr_race_CC,fpr_race_CC,label='Caucasian raceless')\n",
    "plt.plot([0,1],[0,1],color='blue',linestyle='dashed')\n",
    "plt.xlabel('False Positive Rate')\n",
    "plt.ylabel('True Positive Rate')\n",
    "plt.title('ROC without race')\n",
    "plt.legend()\n",
    "plt.show()"
   ]
  },
  {
   "cell_type": "markdown",
   "metadata": {},
   "source": [
    "### So...\n",
    "<b>\n",
    "How to ensure the model is accuracte and unbiased?"
   ]
  },
  {
   "cell_type": "markdown",
   "metadata": {},
   "source": [
    "**A major role in introducing racial bias can be handled by managing data and our algorithm.**\n",
    "\n",
    "**1)The dataset which we are using to predict the results should be carefully chosen and it should make sure that it has no implicit bias in it. We should first of all ensure that the data is not very noisy and there is no chance that the model fitting on statistical noise may end up having a bias introduced into it. Human Bias is often reflected on dataset which is in turn reflected on the results of the ML model and hence the removal of any such biases should be ensured.**\n",
    "\n",
    "**2)Misrepresentation of one of the category of the predictor can introduce a bias against it. For example in the racial bias case, the number of data points for people of African American race was much more than the number of data points for Caucasian people. Hence there is a chance that the Caucasian race did not have an exhaustive representation in the dataset as compared to African American race, which causes the introduction of bias. Hence a proper representation of all races should be ensured.**\n",
    "\n",
    "**3)The training we perform only aims at improving our loss function. The loss function currently focuses only on the correctness of classification and does not consider punishing biases. We can introduce a term into the loss function which is used to punish bias, similar to how we introduce a term to punish blown up betas in regularisation.** "
   ]
  },
  {
   "cell_type": "markdown",
   "metadata": {},
   "source": [
    "<div class=\"alert alert-block alert-danger\" style=\"color:black;background-color:#EFF8D0\">\n",
    "<h2 style=\"color:black;background-color:#EFF8D0\"> Come up with a better model\n",
    "</h2>  \n",
    "    \n",
    "Improving the models used previously by including:\n",
    " - Polynomial terms\n",
    " - Interaction terms\n",
    " - Regularization parameters\n",
    " - Different upsampling techniques\n",
    " - KNN classification\n",
    "\n",
    "with a goal to maximize the new metric which includes both the bias and the accuracy, we define `Bias_Corrected_Accuracy(BCA)` as:\n",
    "    \n",
    "\n",
    "$$BCA = Acccuracy - {\\left|FPR(AA) - FPR(CC)\\right|}$$\n",
    "\n"
   ]
  },
  {
   "cell_type": "markdown",
   "metadata": {},
   "source": [
    "<br> **Get the data again and make it suitable for upsampling(to balance the racial bias in number of data points)**"
   ]
  },
  {
   "cell_type": "code",
   "execution_count": 35,
   "metadata": {
    "collapsed": true
   },
   "outputs": [],
   "source": [
    "from sklearn.utils import shuffle\n",
    "aa_df = df[df['race'] == 'African-American']\n",
    "cc_df = df[df['race'] == 'Caucasian']\n",
    "\n",
    "n_aa = len(aa_df)\n",
    "n_cc = len(cc_df)\n",
    "df = pd.concat([aa_df, cc_df])\n",
    "df = shuffle(df)\n",
    "df['race'] = df['race'].replace(to_replace = ['African-American', 'Caucasian'], value = [0, 1])\n",
    "df['c_charge_degree'] = df['c_charge_degree'].replace(to_replace = ['M', 'F'], value = [1, 0])\n",
    "\n",
    "X = df.drop(['score_text', 'c_charge_desc', 'race'], axis=1)\n",
    "y_temp = df['race']\n",
    "#print(y_temp)"
   ]
  },
  {
   "cell_type": "markdown",
   "metadata": {},
   "source": [
    "<br> **Using the SMOTE Method for upsampling**"
   ]
  },
  {
   "cell_type": "code",
   "execution_count": 36,
   "metadata": {
    "collapsed": true
   },
   "outputs": [],
   "source": [
    "from imblearn.over_sampling import SMOTE\n",
    "\n",
    "#y_temp = X[['African-American','Caucasian']]\n",
    "oversample = SMOTE()\n",
    "X, y_temp = oversample.fit_resample(X, y_temp)\n",
    "y_temp.head()\n",
    "df = pd.concat([X,y_temp],axis=1)\n",
    "df.head()\n",
    "X = df.drop('two_year_recid',axis=1)\n",
    "y = df['two_year_recid']"
   ]
  },
  {
   "cell_type": "markdown",
   "metadata": {},
   "source": [
    "<br>**Splitting the data in train and test andd again maintaining racial distribution as done earlier. Standardising the data sets as well**"
   ]
  },
  {
   "cell_type": "code",
   "execution_count": 37,
   "metadata": {
    "collapsed": true
   },
   "outputs": [],
   "source": [
    "X_train,X_test,y_train,y_test = train_test_split(X,y,test_size=0.2,stratify=X['race'],random_state=1)\n",
    "mmscl = MinMaxScaler()\n",
    "X_train_norm = mmscl.fit_transform(X_train)\n",
    "X_test_norm = mmscl.transform(X_test)\n",
    "X_train = pd.DataFrame(X_train, index=X_train.index, columns=X_train.columns)\n",
    "X_test = pd.DataFrame(X_test, index=X_test.index, columns=X_test.columns)"
   ]
  },
  {
   "cell_type": "markdown",
   "metadata": {},
   "source": [
    "<br> **Using various models with regularisation term in themto get the best Bias Corrected Accuracy**"
   ]
  },
  {
   "cell_type": "code",
   "execution_count": 38,
   "metadata": {},
   "outputs": [
    {
     "name": "stdout",
     "output_type": "stream",
     "text": [
      "Accuracy : 0.7209098862642169  FPR(AA) :  0.21818181818181817  FPR(CC) :  0.11139240506329114\n",
      "Bias corrected accuracy is :  0.6141204731456898\n"
     ]
    }
   ],
   "source": [
    "model1 = LogisticRegressionCV(cv=5)\n",
    "model2 = LassoCV(cv=5)\n",
    "model3 = KNeighborsClassifier(10)\n",
    "model4 = LogisticRegression(C=0.0001)\n",
    "model = model4\n",
    "model.fit(X_train,y_train)\n",
    "y_pred = model.predict(X_test)\n",
    "#y_pred = y_pred>0.5\n",
    "#print(y_pred)\n",
    "acc = metrics.accuracy_score(y_test,y_pred)\n",
    "y_test_AA = y_test[X_test['race']==0]\n",
    "y_test_CC = y_test[X_test['race']==1]\n",
    "y_pred_AA = y_pred[X_test['race']==0]\n",
    "y_pred_CC = y_pred[X_test['race']==1]\n",
    "TNA,FPA,FNA,TPA = metrics.confusion_matrix(y_test_AA,y_pred_AA).ravel()\n",
    "TNC,FPC,FNC,TPC = metrics.confusion_matrix(y_test_CC,y_pred_CC).ravel()\n",
    "FPR_AA = FPA/(FPA+TNA)\n",
    "FPR_CC = FPC/(FPC+TNC)\n",
    "BCA = acc-np.abs(FPR_AA-FPR_CC)\n",
    "print('Accuracy :',acc,' FPR(AA) : ',FPR_AA,' FPR(CC) : ',FPR_CC)\n",
    "print('Bias corrected accuracy is : ',BCA)"
   ]
  },
  {
   "cell_type": "code",
   "execution_count": null,
   "metadata": {
    "collapsed": true
   },
   "outputs": [],
   "source": []
  }
 ],
 "metadata": {
  "kernelspec": {
   "display_name": "Python 3",
   "language": "python",
   "name": "python3"
  },
  "language_info": {
   "codemirror_mode": {
    "name": "ipython",
    "version": 3
   },
   "file_extension": ".py",
   "mimetype": "text/x-python",
   "name": "python",
   "nbconvert_exporter": "python",
   "pygments_lexer": "ipython3",
   "version": "3.6.3"
  }
 },
 "nbformat": 4,
 "nbformat_minor": 2
}
